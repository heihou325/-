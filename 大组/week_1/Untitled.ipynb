{
 "cells": [
  {
   "cell_type": "markdown",
   "id": "4892e9cc-5e37-43fb-9dd6-18ce8756da03",
   "metadata": {},
   "source": [
    "## 生活随笔\n",
    "这周总体过的比较充实，感觉很好\n",
    "## 一周总结\n",
    "学习到很多新东西，有点兴奋\n",
    "## 存在问题\n",
    "有时候比较低效，还要继续努力\n",
    "## 下周规划\n",
    "在周中前完成考核后，学点新东西"
   ]
  },
  {
   "cell_type": "code",
   "execution_count": null,
   "id": "ac2cfad3-da0c-419a-b8ed-f62b2ed88d05",
   "metadata": {},
   "outputs": [],
   "source": []
  }
 ],
 "metadata": {
  "kernelspec": {
   "display_name": "Python 3 (ipykernel)",
   "language": "python",
   "name": "python3"
  },
  "language_info": {
   "codemirror_mode": {
    "name": "ipython",
    "version": 3
   },
   "file_extension": ".py",
   "mimetype": "text/x-python",
   "name": "python",
   "nbconvert_exporter": "python",
   "pygments_lexer": "ipython3",
   "version": "3.12.7"
  }
 },
 "nbformat": 4,
 "nbformat_minor": 5
}
